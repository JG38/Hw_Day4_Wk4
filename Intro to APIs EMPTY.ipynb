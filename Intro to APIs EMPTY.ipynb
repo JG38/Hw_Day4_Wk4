{
 "cells": [
  {
   "cell_type": "markdown",
   "id": "7196054f",
   "metadata": {},
   "source": [
    "# Working with APIs"
   ]
  },
  {
   "cell_type": "markdown",
   "id": "0547b71e",
   "metadata": {},
   "source": [
    "API stands for Application programming interface<br>\n",
    "APIs are a way for applications to talk to eachother<br>\n",
    "In python we use the requests package to handle the connection<br>\n",
    "<small><strong>Note: It is requests with an s not request(this is a different package)</strong></small><br>\n",
    "Most API's communicate with data in the form of JSON<br>\n",
    "JSON stands for JavaScript Object Notation"
   ]
  },
  {
   "cell_type": "code",
   "execution_count": 1,
   "id": "4db9d154",
   "metadata": {},
   "outputs": [],
   "source": [
    "#import the packages we need:\n",
    "import requests, json"
   ]
  },
  {
   "cell_type": "markdown",
   "id": "e8c2ce51",
   "metadata": {},
   "source": [
    "We will be connecting to the Ergast F1 Racer API today:\n",
    "http://ergast.com/mrd/\n",
    "\n",
    "to view JSON data nicely in the Chrome browser install the extension JSONview"
   ]
  },
  {
   "cell_type": "code",
   "execution_count": null,
   "id": "52c440c6",
   "metadata": {},
   "outputs": [],
   "source": [
    "help(request)"
   ]
  },
  {
   "cell_type": "code",
   "execution_count": null,
   "id": "f60c1b4a",
   "metadata": {},
   "outputs": [],
   "source": [
    "url = 'https://ergast.com/api/f1/2008/driverStandings.json'"
   ]
  },
  {
   "cell_type": "code",
   "execution_count": 2,
   "id": "7b63a204",
   "metadata": {},
   "outputs": [],
   "source": [
    "#response object\n",
    "response = requests.get(url)\n",
    "print(response)\n",
    "print(type(response))\n",
    "print(response.ok)"
   ]
  },
  {
   "cell_type": "code",
   "execution_count": 3,
   "id": "c6d1fdaf",
   "metadata": {},
   "outputs": [],
   "source": [
    "#check and make sure we got a successful response from the API\n",
    "data = response.json()\n",
    "data['MRData'][\"StandingsTable\"][\"StandingsLists\"][0][\"DriverStandings\"][0][\"Driver\"][\"driverId\""
   ]
  },
  {
   "cell_type": "code",
   "execution_count": 4,
   "id": "ed4d3256",
   "metadata": {},
   "outputs": [],
   "source": [
    "#view the response as a JSON\n",
    "response2 = requests.get('https://ergast.com/api/f1/2008/5/driverStandings.json')\n",
    "data2 = response2.json()\n",
    "data2['MRData'][\"StandingsTable\"][\"StandingsLists\"][0][\"DriverStandings\"][0][\"Driver\"][\"driverId\"]"
   ]
  },
  {
   "cell_type": "code",
   "execution_count": null,
   "id": "92e6cd2c",
   "metadata": {},
   "outputs": [],
   "source": [
    "def top_3(year, round):\n",
    "    response = requests.get(f'https://ergast.com/api/f1/{year}/{round}/driverStandings.json')\n",
    "    data = response.json()\n",
    "    for x in range(1,4):\n",
    "        f_name = data['MRData'][\"StandingsTable\"][\"StandingsLists\"][0][\"DriverStandings\"][x][\"Driver\"]['givenName']\n",
    "        l_name = data['MRData'][\"StandingsTable\"][\"StandingsLists\"][0][\"DriverStandings\"][x][\"Driver\"]['familyName']\n",
    "        print(f\"In position {x}, we have {f_name} {l_name}\")\n",
    "top_3(2023,22)\n",
    "    "
   ]
  },
  {
   "cell_type": "code",
   "execution_count": 5,
   "id": "f074dfcf",
   "metadata": {},
   "outputs": [],
   "source": [
    "# We only want the Driver Standings\n",
    "def get_driver_info(name):\n",
    "    driver_info = {}\n",
    "    r = requests.get(f\"https://ergast.com/api/f1/drivers/{name}.json\")\n",
    "    data = r.json()\n",
    "    driver_info['full_name'] = data[\"MRData\"][\"DriverTable\"]['Drivers'][0]['givenName'] + ' ' + data[\"MRData\"][\"DriverTable\"]['Drivers'][0]['familyName']\n",
    "    driver_info['nation'] = data[\"MRData\"][\"DriverTable\"]['Drivers'][0][\"nationality\"]\n",
    "    driver_info['num'] = data[\"MRData\"][\"DriverTable\"]['Drivers'][0][\"permanentNumber\"]\n",
    "    driver_info['driver_id'] = data[\"MRData\"][\"DriverTable\"][\"driverId\"]\n",
    "    print(driver_info)\n",
    "    \n",
    "get_driver_info('raikkonen')\n",
    "    "
   ]
  },
  {
   "cell_type": "code",
   "execution_count": null,
   "id": "be46a950",
   "metadata": {},
   "outputs": [],
   "source": [
    "\"https://ergast.com/api/f1/drivers/alonso.json\""
   ]
  },
  {
   "cell_type": "code",
   "execution_count": null,
   "id": "3740c752",
   "metadata": {},
   "outputs": [],
   "source": []
  },
  {
   "cell_type": "markdown",
   "id": "6d546014",
   "metadata": {},
   "source": [
    "# <strong>Homework</strong>\n",
    "check out this Pokemon API https://pokeapi.co/\n",
    "Use the requests package to connect to this API and get and store data for 5 different pokemon.\n",
    "Get the pokemons: name, atleast one ability's name, base_experience, and the URL for its sprite (an image that shows up on screen) for the 'front_shiny', attack base_state, hp base_stat, defense base_stat"
   ]
  },
  {
   "cell_type": "code",
   "execution_count": null,
   "id": "5a9081e3",
   "metadata": {},
   "outputs": [],
   "source": [
    "import requests, json\n",
    "\n",
    "def get_pokemon_info(name):\n",
    "    pokemon_info = {}\n",
    "    r = requests.get(f\"https://pokeapi.co/api/v2/pokemon/{name}\")\n",
    "    data = r.json()\n",
    "    pokemon_info[\"full_name\"] = data[\"name\"]\n",
    "    pokemon_info[\"ability_name\"] = data[\"abilities\"][1][\"ability\"][\"name\"]\n",
    "    pokemon_info[\"base_experience\"] = data[\"base_experience\"]\n",
    "    pokemon_info[\"sprite\"] = data[\"sprites\"][\"front_shiny\"]\n",
    "    pokemon_info[\"hp\"] = data[\"stats\"][0][\"base_stat\"]\n",
    "    pokemon_info[\"attack\"] = data[\"stats\"][1][\"base_stat\"]\n",
    "    pokemon_info[\"defense\"] = data[\"stats\"][2][\"base_stat\"]\n",
    "    print(\"\\n\",pokemon_info)\n",
    "    \n",
    "pickachu_data = get_pokemon_info('pikachu')\n",
    "articuno_data = get_pokemon_info('articuno')\n",
    "bulbasaur_data = get_pokemon_info('bulbasaur')\n",
    "charmander_data = get_pokemon_info('charmander')\n",
    "magikarp_data = get_pokemon_info('magikarp')"
   ]
  }
 ],
 "metadata": {
  "kernelspec": {
   "display_name": "Python 3",
   "language": "python",
   "name": "python3"
  },
  "language_info": {
   "codemirror_mode": {
    "name": "ipython",
    "version": 3
   },
   "file_extension": ".py",
   "mimetype": "text/x-python",
   "name": "python",
   "nbconvert_exporter": "python",
   "pygments_lexer": "ipython3",
   "version": "3.8.8"
  }
 },
 "nbformat": 4,
 "nbformat_minor": 5
}
